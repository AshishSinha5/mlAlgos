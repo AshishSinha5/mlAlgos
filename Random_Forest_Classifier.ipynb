{
  "nbformat": 4,
  "nbformat_minor": 0,
  "metadata": {
    "colab": {
      "name": "Random Forest Classifier.ipynb",
      "provenance": [],
      "authorship_tag": "ABX9TyObc3Bh0U9GR7vhjxFKnVoi",
      "include_colab_link": true
    },
    "kernelspec": {
      "name": "python3",
      "display_name": "Python 3"
    }
  },
  "cells": [
    {
      "cell_type": "markdown",
      "metadata": {
        "id": "view-in-github",
        "colab_type": "text"
      },
      "source": [
        "<a href=\"https://colab.research.google.com/github/AshishSinha5/mlAlgos/blob/master/Random_Forest_Classifier.ipynb\" target=\"_parent\"><img src=\"https://colab.research.google.com/assets/colab-badge.svg\" alt=\"Open In Colab\"/></a>"
      ]
    },
    {
      "cell_type": "code",
      "metadata": {
        "id": "w_pRXzxGEq5U",
        "colab_type": "code",
        "colab": {}
      },
      "source": [
        "import numpy as np\n",
        "import pandas as pd\n",
        "import matplotlib.pyplot as plt\n",
        "%matplotlib inline"
      ],
      "execution_count": 0,
      "outputs": []
    },
    {
      "cell_type": "markdown",
      "metadata": {
        "id": "GbWZ409KFPYB",
        "colab_type": "text"
      },
      "source": [
        "Random Forest is an ensembple of Decision Tree<br>\n",
        "Randomly Choose n examples from training set (Bootstrapping)<br>\n",
        "Grow the decision tree from the bootstrap sample<br>\n",
        "Repeat k times(no. of Tree><br>\n",
        "Classify using majority votes"
      ]
    },
    {
      "cell_type": "code",
      "metadata": {
        "id": "xC_AzrwzFwKi",
        "colab_type": "code",
        "colab": {}
      },
      "source": [
        "from sklearn.ensemble import RandomForestClassifier\n",
        "forest  = RandomForestClassifier(criterion = 'gini',\n",
        "                                 n_estimators = 25,\n",
        "                                 random_state = 1,\n",
        "                                 n_jobs =   2)"
      ],
      "execution_count": 0,
      "outputs": []
    },
    {
      "cell_type": "code",
      "metadata": {
        "id": "O2V0knsNGO_Z",
        "colab_type": "code",
        "colab": {}
      },
      "source": [
        "from sklearn import datasets\n",
        "#loading iris dataset setting petal and sepal length as feature matrix and class label as targets\n",
        "iris = datasets.load_iris()\n",
        "X = iris.data[:, [2,3]]\n",
        "y = iris.target\n",
        "#Splitting the dataset in test ans train dataset to test aor model's performance on unseen data\n",
        "from sklearn.model_selection import train_test_split\n",
        "X_train, X_test, y_train, y_test = train_test_split(X, y, test_size = 0.3 , random_state = 1, stratify = y)\n",
        "#stratify function ensures all the classes have equal proportion of representaion in both test and train sets\n",
        "# performing feature scaling for better preformance of the optimizer\n",
        "from sklearn.preprocessing import StandardScaler\n",
        "sc = StandardScaler()\n",
        "sc.fit(X_train) # fit method will estimate the parameters mean and standars deviation of the sample given\n",
        "X_train_std = sc.transform(X_train)\n",
        "X_test_std = sc.transform(X_test)"
      ],
      "execution_count": 0,
      "outputs": []
    },
    {
      "cell_type": "code",
      "metadata": {
        "id": "_whUsBE2GgEY",
        "colab_type": "code",
        "colab": {}
      },
      "source": [
        "from matplotlib.colors import ListedColormap\n",
        "def plotDecisionRegion(X, y, classifier, test_idx = None, resolution = 0.02):\n",
        "    markers = ('s','x','o','^','v')\n",
        "    colors = ('red', 'blue', 'lightgreen', 'gray', 'cyan')\n",
        "    cmap = ListedColormap(colors[:len(np.unique(y))])\n",
        "    x1_min, x1_max = X[:, 0].min() - 1,X[:,0].max() + 1\n",
        "    x2_min, x2_max = X[:, 1].min() - 1,X[:,1].max() + 1\n",
        "    xx1, xx2 = np.meshgrid(np.arange(x1_min,x1_max,resolution),\n",
        "                          np.arange(x2_min,x2_max, resolution))\n",
        "    #xx1, xx2 are the coordinates of x and y respectively, we pair each value of the two corresponding matrices and get a grid\n",
        "    Z = classifier.predict(np.array([xx1.ravel(), xx2.ravel()]).T)\n",
        "    Z = Z.reshape(xx1.shape)\n",
        "    plt.contourf(xx1,xx2, Z, alpha = 0.3, cmap = cmap)\n",
        "    plt.xlim(xx1.min(),xx1.max())\n",
        "    plt.ylim(xx2.min(),xx2.max())\n",
        "    \n",
        "    for idx, c1 in enumerate(np.unique(y)):\n",
        "        plt.scatter(x =X[y==c1,0],\n",
        "                    y = X[y==c1,1],\n",
        "                    alpha =0.8,\n",
        "                    c = colors[idx],\n",
        "                    marker = markers[idx],\n",
        "                    label = c1, edgecolor='black')\n",
        "    \n",
        "    if test_idx:\n",
        "        X_test, y_test = X[test_idx, :], y[test_idx]\n",
        "        plt.scatter(X_test[:,0], X_test[:,1], c= '', edgecolors='black',\n",
        "                    alpha=1.0, linewidths=1, marker='o', s=100, label='test set')"
      ],
      "execution_count": 0,
      "outputs": []
    },
    {
      "cell_type": "code",
      "metadata": {
        "id": "J9wxsAIfGXeC",
        "colab_type": "code",
        "colab": {
          "base_uri": "https://localhost:8080/",
          "height": 279
        },
        "outputId": "b3acdf70-466f-4799-88ee-5f34c93ca74a"
      },
      "source": [
        "forest.fit(X_train,y_train)\n",
        "X_combined = np.vstack((X_train, X_test))\n",
        "y_combined = np.hstack((y_train, y_test))\n",
        "plotDecisionRegion(X_combined, y_combined, classifier=forest, test_idx=range(105,150))\n",
        "plt.legend(loc = 'upper left')\n",
        "plt.xlabel('petal length')\n",
        "plt.ylabel('petal width')\n",
        "plt.show()"
      ],
      "execution_count": 6,
      "outputs": [
        {
          "output_type": "display_data",
          "data": {
            "image/png": "[encoded data removed]",
            "text/plain": [
              "<Figure size 432x288 with 1 Axes>"
            ]
          },
          "metadata": {
            "tags": []
          }
        }
      ]
    },
    {
      "cell_type": "markdown",
      "metadata": {
        "id": "YBL0iK0yG0Cx",
        "colab_type": "text"
      },
      "source": [
        "We trained random forest from 25 decision trees and used gini impurity method on how to split the node, n_jobs is used to parallelize the model training using multiple cores of the computer"
      ]
    },
    {
      "cell_type": "code",
      "metadata": {
        "id": "KcbWBpr0Gscn",
        "colab_type": "code",
        "colab": {}
      },
      "source": [
        ""
      ],
      "execution_count": 0,
      "outputs": []
    }
  ]
}