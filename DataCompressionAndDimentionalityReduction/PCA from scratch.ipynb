{
 "cells": [
  {
   "cell_type": "code",
   "execution_count": 2,
   "metadata": {},
   "outputs": [],
   "source": [
    "import pandas as pd \n",
    "import numpy as np\n",
    "import matplotlib.pyplot as plt\n",
    "%matplotlib inline"
   ]
  },
  {
   "cell_type": "markdown",
   "metadata": {},
   "source": [
    "- Standardizing the data <br>\n",
    "- Constructiong the covariance matrix <br>\n",
    "- Obtaining eigen values and eigen vectors of covariance matrix <br>\n",
    "- Sorting the eigenvalues in decreasing order to rank the eigenvectors "
   ]
  },
  {
   "cell_type": "code",
   "execution_count": 3,
   "metadata": {},
   "outputs": [],
   "source": [
    "df_wine = pd.read_csv('https://archive.ics.uci.edu/ml/machine-learning-databases/wine/wine.data',header = None)\n",
    "df_wine.columns = ['Class label', 'Alcohol',\n",
    " 'Malic acid', 'Ash',\n",
    " 'Alcalinity of ash', 'Magnesium',\n",
    " 'Total phenols', 'Flavanoids',\n",
    " 'Nonflavanoid phenols',\n",
    " 'Proanthocyanins',\n",
    " 'Color intensity', 'Hue',\n",
    " 'OD280/OD315 of diluted wines',\n",
    " 'Proline']"
   ]
  },
  {
   "cell_type": "code",
   "execution_count": 4,
   "metadata": {},
   "outputs": [],
   "source": [
    "from sklearn.model_selection import train_test_split"
   ]
  },
  {
   "cell_type": "code",
   "execution_count": 5,
   "metadata": {},
   "outputs": [],
   "source": [
    "X, y = df_wine.iloc[:,1:].values, df_wine.iloc[:,0].values\n",
    "X_train, X_test, y_train, y_test = train_test_split(X,y,test_size = 0.3 , stratify = y, random_state = 0)"
   ]
  },
  {
   "cell_type": "code",
   "execution_count": 6,
   "metadata": {},
   "outputs": [],
   "source": [
    "from sklearn.preprocessing import StandardScaler"
   ]
  },
  {
   "cell_type": "code",
   "execution_count": 7,
   "metadata": {},
   "outputs": [],
   "source": [
    "std = StandardScaler()\n",
    "X_train_std, X_test_std = std.fit_transform(X_train), std.fit_transform(X_test)"
   ]
  },
  {
   "cell_type": "code",
   "execution_count": 8,
   "metadata": {},
   "outputs": [
    {
     "name": "stdout",
     "output_type": "stream",
     "text": [
      "\n",
      "Eigenvalues \n",
      "[4.84274532 2.41602459 1.54845825 0.96120438 0.84166161 0.6620634\n",
      " 0.51828472 0.34650377 0.3131368  0.10754642 0.21357215 0.15362835\n",
      " 0.1808613 ]\n"
     ]
    }
   ],
   "source": [
    "cov_mat = np.cov(X_train_std.T) #Calculating the covariance matrix of the standarddized feature matrix\n",
    "eVal, eVec = np.linalg.eig(cov_mat)\n",
    "print('\\nEigenvalues \\n%s' % eVal)"
   ]
  },
  {
   "cell_type": "code",
   "execution_count": 9,
   "metadata": {},
   "outputs": [
    {
     "data": {
      "text/plain": [
       "(13, 13)"
      ]
     },
     "execution_count": 9,
     "metadata": {},
     "output_type": "execute_result"
    }
   ],
   "source": [
    "cov_mat.shape"
   ]
  },
  {
   "cell_type": "markdown",
   "metadata": {},
   "source": [
    "Calculating Explained Variance"
   ]
  },
  {
   "cell_type": "code",
   "execution_count": 10,
   "metadata": {},
   "outputs": [],
   "source": [
    "#Sincewe want to reduce the dimentionality of the dataset we only need to select the eigenvalues which contains most varinace\n",
    "#hence we sort the e-val according to their magnitudes\n",
    "#We first calculate total and explained variance\n",
    "tot = sum(eVal)\n",
    "var_exp = [i/tot for i in sorted(eVal, reverse = True)]\n",
    "cum_var_exp = np.cumsum(var_exp)"
   ]
  },
  {
   "cell_type": "code",
   "execution_count": 11,
   "metadata": {},
   "outputs": [
    {
     "data": {
      "image/png": "[encoded data removed]",
      "text/plain": [
       "<Figure size 432x288 with 1 Axes>"
      ]
     },
     "metadata": {
      "needs_background": "light"
     },
     "output_type": "display_data"
    }
   ],
   "source": [
    "plt.bar(range(1,X_train_std.shape[1]+1),var_exp,alpha = 0.5, align = 'center', label = 'Individual Explained Variance')\n",
    "plt.step(range(1,X_train_std.shape[1] + 1), cum_var_exp, where='mid', label = 'Cumulative Explained Variance')\n",
    "plt.ylabel(\"Explained Variance\")\n",
    "plt.xlabel(\"Principal Componenets Index\")\n",
    "plt.tight_layout()\n",
    "plt.legend(loc = 'best')\n",
    "plt.show()"
   ]
  },
  {
   "cell_type": "markdown",
   "metadata": {},
   "source": [
    "Feature Transformaton"
   ]
  },
  {
   "cell_type": "markdown",
   "metadata": {},
   "source": [
    "- Select k eigenvetors, which correcponds to k largest eigenvalues, k is the dimentionality of the new fature space<br>\n",
    "- Construct the projection matrix, W, from the 'top' k eigenvalues<br>\n",
    "- Transform X from d dimentions to k dimentions using Wx = x'"
   ]
  },
  {
   "cell_type": "code",
   "execution_count": 12,
   "metadata": {},
   "outputs": [],
   "source": [
    "ePairs = [(np.abs(eVal[i]), eVec[:,i]) for i in range(len(eVal))] \n",
    "ePairs.sort(key = lambda k:k[0], reverse = True) # sorting the tuples in decreasing order of e-vals"
   ]
  },
  {
   "cell_type": "code",
   "execution_count": 25,
   "metadata": {},
   "outputs": [
    {
     "data": {
      "text/plain": [
       "array([[-0.13724218,  0.50303478],\n",
       "       [ 0.24724326,  0.16487119],\n",
       "       [-0.02545159,  0.24456476],\n",
       "       [ 0.20694508, -0.11352904],\n",
       "       [-0.15436582,  0.28974518],\n",
       "       [-0.39376952,  0.05080104],\n",
       "       [-0.41735106, -0.02287338],\n",
       "       [ 0.30572896,  0.09048885],\n",
       "       [-0.30668347,  0.00835233],\n",
       "       [ 0.07554066,  0.54977581],\n",
       "       [-0.32613263, -0.20716433],\n",
       "       [-0.36861022, -0.24902536],\n",
       "       [-0.29669651,  0.38022942]])"
      ]
     },
     "execution_count": 25,
     "metadata": {},
     "output_type": "execute_result"
    }
   ],
   "source": [
    "#We select two eVaecors which account for 60% variance in the dataset\n",
    "w = np.hstack((ePairs[0][1][:, np.newaxis],\n",
    "              ePairs[1][1][:, np.newaxis]))\n",
    "w"
   ]
  },
  {
   "cell_type": "markdown",
   "metadata": {},
   "source": [
    "W is a 13*2 projection matrix from top 2 eigenValues"
   ]
  },
  {
   "cell_type": "code",
   "execution_count": 27,
   "metadata": {},
   "outputs": [],
   "source": [
    "#Transforming the feature space\n",
    "X_train_pca = X_train_std.dot(w)"
   ]
  },
  {
   "cell_type": "code",
   "execution_count": 34,
   "metadata": {},
   "outputs": [
    {
     "data": {
      "image/png": "[encoded data removed]",
      "text/plain": [
       "<Figure size 432x288 with 1 Axes>"
      ]
     },
     "metadata": {
      "needs_background": "light"
     },
     "output_type": "display_data"
    }
   ],
   "source": [
    "colors = ['r','b','g']\n",
    "markers = ['s', 'x', 'o']\n",
    "for l, c, m in zip(np.unique(y_train), colors, markers):\n",
    "    plt.scatter(X_train_pca[y_train == l, 0],X_train_pca[y_train == l, 1],c = c, label = l,marker = m)\n",
    "plt.xlabel('PC 1')\n",
    "plt.ylabel('PC 2')\n",
    "plt.legend(loc = 'best')\n",
    "plt.tight_layout()\n",
    "plt.show()"
   ]
  },
  {
   "cell_type": "markdown",
   "metadata": {},
   "source": [
    "We can see that the dataset can easily be classified using a linear classifier"
   ]
  },
  {
   "cell_type": "code",
   "execution_count": 35,
   "metadata": {},
   "outputs": [],
   "source": [
    "#Helper function to plot decision boundary\n",
    "from matplotlib.colors import ListedColormap\n",
    "def plotDecisionRegion(X, y, classifier, test_idx = None, resolution = 0.02):\n",
    "    markers = ('s','x','o','^','v')\n",
    "    colors = ('red', 'blue', 'lightgreen', 'gray', 'cyan')\n",
    "    cmap = ListedColormap(colors[:len(np.unique(y))])\n",
    "    x1_min, x1_max = X[:, 0].min() - 1,X[:,0].max() + 1\n",
    "    x2_min, x2_max = X[:, 1].min() - 1,X[:,1].max() + 1\n",
    "    xx1, xx2 = np.meshgrid(np.arange(x1_min,x1_max,resolution),\n",
    "                          np.arange(x2_min,x2_max, resolution))\n",
    "    #xx1, xx2 are the coordinates of x and y respectively, we pair each value of the two corresponding matrices and get a grid\n",
    "    Z = classifier.predict(np.array([xx1.ravel(), xx2.ravel()]).T)\n",
    "    Z = Z.reshape(xx1.shape)\n",
    "    plt.contourf(xx1,xx2, Z, alpha = 0.3, cmap = cmap)\n",
    "    plt.xlim(xx1.min(),xx1.max())\n",
    "    plt.ylim(xx2.min(),xx2.max())\n",
    "    \n",
    "    for idx, c1 in enumerate(np.unique(y)):\n",
    "        plt.scatter(x =X[y==c1,0],\n",
    "                    y = X[y==c1,1],\n",
    "                    alpha =0.8,\n",
    "                    c = colors[idx],\n",
    "                    marker = markers[idx],\n",
    "                    label = c1, edgecolor='black')\n",
    "    \n",
    "    if test_idx:\n",
    "        X_test, y_test = X[test_idx, :], y[test_idx]\n",
    "        plt.scatter(X_test[:,0], X_test[:,1], c= '', edgecolors='black',\n",
    "                    alpha=1.0, linewidths=1, marker='o', s=100, label='test set')"
   ]
  },
  {
   "cell_type": "code",
   "execution_count": 37,
   "metadata": {},
   "outputs": [],
   "source": [
    "from sklearn.linear_model import LogisticRegression\n",
    "from sklearn.decomposition import PCA"
   ]
  },
  {
   "cell_type": "code",
   "execution_count": 38,
   "metadata": {},
   "outputs": [],
   "source": [
    "pca = PCA(n_components=2)\n",
    "lr  = LogisticRegression(multi_class='ovr', \n",
    "                        random_state=1,\n",
    "                        solver = 'lbfgs')\n",
    "X_train_pca = pca.fit_transform(X_train_std)\n",
    "X_test_pca = pca.fit_transform(X_test_std)"
   ]
  },
  {
   "cell_type": "code",
   "execution_count": 39,
   "metadata": {},
   "outputs": [
    {
     "data": {
      "image/png": "[encoded data removed]",
      "text/plain": [
       "<Figure size 432x288 with 1 Axes>"
      ]
     },
     "metadata": {
      "needs_background": "light"
     },
     "output_type": "display_data"
    }
   ],
   "source": [
    "lr.fit(X_train_pca, y_train)\n",
    "plotDecisionRegion(X_train_pca, y_train, classifier=lr)\n",
    "plt.xlabel(\"PC 1\")\n",
    "plt.ylabel(\"PC 2\")\n",
    "plt.legend(loc = \"lower left\")\n",
    "plt.tight_layout()\n",
    "plt.show()"
   ]
  },
  {
   "cell_type": "code",
   "execution_count": 41,
   "metadata": {},
   "outputs": [
    {
     "data": {
      "image/png": "[encoded data removed]",
      "text/plain": [
       "<Figure size 432x288 with 1 Axes>"
      ]
     },
     "metadata": {
      "needs_background": "light"
     },
     "output_type": "display_data"
    }
   ],
   "source": [
    "#Plotting decision region for test dataset \n",
    "plotDecisionRegion(-1*X_test_pca, y_test,classifier=lr)\n",
    "plt.xlabel(\"PC 1\")\n",
    "plt.ylabel(\"PC 2\")\n",
    "plt.legend(loc = \"lower left\")\n",
    "plt.tight_layout()\n",
    "plt.show()"
   ]
  },
  {
   "cell_type": "code",
   "execution_count": 42,
   "metadata": {},
   "outputs": [],
   "source": [
    "pca = PCA(n_components=None)\n",
    "X_train_pca =pca.fit_transform(X_train_std)"
   ]
  },
  {
   "cell_type": "code",
   "execution_count": 43,
   "metadata": {},
   "outputs": [
    {
     "data": {
      "text/plain": [
       "array([0.36951469, 0.18434927, 0.11815159, 0.07334252, 0.06422108,\n",
       "       0.05051724, 0.03954654, 0.02643918, 0.02389319, 0.01629614,\n",
       "       0.01380021, 0.01172226, 0.00820609])"
      ]
     },
     "execution_count": 43,
     "metadata": {},
     "output_type": "execute_result"
    }
   ],
   "source": [
    "pca.explained_variance_ratio_"
   ]
  },
  {
   "cell_type": "code",
   "execution_count": null,
   "metadata": {},
   "outputs": [],
   "source": []
  },
  {
   "cell_type": "code",
   "execution_count": null,
   "metadata": {},
   "outputs": [],
   "source": []
  }
 ],
 "metadata": {
  "kernelspec": {
   "display_name": "Python 3",
   "language": "python",
   "name": "python3"
  },
  "language_info": {
   "codemirror_mode": {
    "name": "ipython",
    "version": 3
   },
   "file_extension": ".py",
   "mimetype": "text/x-python",
   "name": "python",
   "nbconvert_exporter": "python",
   "pygments_lexer": "ipython3",
   "version": "3.7.4"
  }
 },
 "nbformat": 4,
 "nbformat_minor": 2
}
