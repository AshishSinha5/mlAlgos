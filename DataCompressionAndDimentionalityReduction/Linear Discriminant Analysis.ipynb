{
 "cells": [
  {
   "cell_type": "code",
   "execution_count": 1,
   "metadata": {},
   "outputs": [],
   "source": [
    "import pandas as pd \n",
    "import numpy as np\n",
    "import matplotlib.pyplot as plt\n",
    "%matplotlib inline"
   ]
  },
  {
   "cell_type": "code",
   "execution_count": 2,
   "metadata": {},
   "outputs": [],
   "source": [
    "df_wine = pd.read_csv('https://archive.ics.uci.edu/ml/machine-learning-databases/wine/wine.data',header = None)\n",
    "df_wine.columns = ['Class label', 'Alcohol',\n",
    " 'Malic acid', 'Ash',\n",
    " 'Alcalinity of ash', 'Magnesium',\n",
    " 'Total phenols', 'Flavanoids',\n",
    " 'Nonflavanoid phenols',\n",
    " 'Proanthocyanins',\n",
    " 'Color intensity', 'Hue',\n",
    " 'OD280/OD315 of diluted wines',\n",
    " 'Proline']"
   ]
  },
  {
   "cell_type": "code",
   "execution_count": 3,
   "metadata": {},
   "outputs": [],
   "source": [
    "from sklearn.model_selection import train_test_split\n",
    "X, y = df_wine.iloc[:,1:].values, df_wine.iloc[:,0].values\n",
    "X_train, X_test, y_train, y_test = train_test_split(X,y,test_size = 0.3 , stratify = y, random_state = 0)\n",
    "from sklearn.preprocessing import StandardScaler\n",
    "std = StandardScaler()\n",
    "X_train_std, X_test_std = std.fit_transform(X_train), std.fit_transform(X_test)"
   ]
  },
  {
   "cell_type": "code",
   "execution_count": 4,
   "metadata": {},
   "outputs": [
    {
     "name": "stdout",
     "output_type": "stream",
     "text": [
      "MV 1: [ 0.9066 -0.3497  0.3201 -0.7189  0.5056  0.8807  0.9589 -0.5516  0.5416\n",
      "  0.2338  0.5897  0.6563  1.2075]\n",
      "\n",
      "MV 2: [-0.8749 -0.2848 -0.3735  0.3157 -0.3848 -0.0433  0.0635 -0.0946  0.0703\n",
      " -0.8286  0.3144  0.3608 -0.7253]\n",
      "\n",
      "MV 3: [ 0.1992  0.866   0.1682  0.4148 -0.0451 -1.0286 -1.2876  0.8287 -0.7795\n",
      "  0.9649 -1.209  -1.3622 -0.4013]\n",
      "\n"
     ]
    }
   ],
   "source": [
    "np.set_printoptions(precision  = 4)\n",
    "mean_vec = []\n",
    "for label in range(1,4):\n",
    "    mean_vec.append(np.mean(X_train_std[y_train == label], axis = 0))\n",
    "    print('MV %s: %s\\n' %(label, mean_vec[label-1]))"
   ]
  },
  {
   "cell_type": "code",
   "execution_count": 5,
   "metadata": {},
   "outputs": [
    {
     "data": {
      "text/plain": [
       "[array([ 0.9066, -0.3497,  0.3201, -0.7189,  0.5056,  0.8807,  0.9589,\n",
       "        -0.5516,  0.5416,  0.2338,  0.5897,  0.6563,  1.2075]),\n",
       " array([-0.8749, -0.2848, -0.3735,  0.3157, -0.3848, -0.0433,  0.0635,\n",
       "        -0.0946,  0.0703, -0.8286,  0.3144,  0.3608, -0.7253]),\n",
       " array([ 0.1992,  0.866 ,  0.1682,  0.4148, -0.0451, -1.0286, -1.2876,\n",
       "         0.8287, -0.7795,  0.9649, -1.209 , -1.3622, -0.4013])]"
      ]
     },
     "execution_count": 5,
     "metadata": {},
     "output_type": "execute_result"
    }
   ],
   "source": [
    "mean_vec"
   ]
  },
  {
   "cell_type": "code",
   "execution_count": 6,
   "metadata": {},
   "outputs": [
    {
     "name": "stdout",
     "output_type": "stream",
     "text": [
      "Whithin Class scatter matrix - 13x13\n"
     ]
    }
   ],
   "source": [
    "#Calculationg whithin class scatter matrices\n",
    "d = 13 # number of feature\n",
    "S_w = np.zeros((d,d))\n",
    "for label, mv in zip(range(1,4), mean_vec):\n",
    "    class_scatter = np.zeros((d,d))\n",
    "    for row in X_train_std[y_train == label]:\n",
    "        row, mv = row.reshape(d,1), mv.reshape(d,1)\n",
    "        class_scatter += (row - mv).dot((row - mv).T)\n",
    "    S_w+=class_scatter\n",
    "print(\"Whithin Class scatter matrix - %sx%s\" %(S_w.shape[0], S_w.shape[1]))\n"
   ]
  },
  {
   "cell_type": "code",
   "execution_count": 7,
   "metadata": {},
   "outputs": [
    {
     "name": "stdout",
     "output_type": "stream",
     "text": [
      "Class Label Distribution -  [41 50 33]\n"
     ]
    }
   ],
   "source": [
    "#We are assuming that the class labels are uniformly distributed but that condition is violated\n",
    "print(\"Class Label Distribution - \", np.bincount(y_train)[1:])"
   ]
  },
  {
   "cell_type": "code",
   "execution_count": 8,
   "metadata": {},
   "outputs": [
    {
     "name": "stdout",
     "output_type": "stream",
     "text": [
      "Whithin Class scatter matrix - 13x13\n"
     ]
    }
   ],
   "source": [
    "#So we need a scaled version of scater matrix\n",
    "d = 13 # number of feature\n",
    "S_w = np.zeros((d,d))\n",
    "for label, mv in zip(range(1,4), mean_vec):\n",
    "    class_scatter = np.cov(X_train_std[y_train == label].T)\n",
    "    S_w+=class_scatter\n",
    "print(\"Whithin Class scatter matrix - %sx%s\" %(S_w.shape[0], S_w.shape[1]))\n"
   ]
  },
  {
   "cell_type": "code",
   "execution_count": 12,
   "metadata": {},
   "outputs": [
    {
     "data": {
      "text/plain": [
       "3"
      ]
     },
     "execution_count": 12,
     "metadata": {},
     "output_type": "execute_result"
    }
   ],
   "source": [
    "label"
   ]
  },
  {
   "cell_type": "code",
   "execution_count": 9,
   "metadata": {},
   "outputs": [
    {
     "name": "stdout",
     "output_type": "stream",
     "text": [
      "Whithin Class scatter matrix - 13x13\n"
     ]
    }
   ],
   "source": [
    "#Next we compute within class scatter matrix\n",
    "mean_overall = np.mean(X_train_std, axis = 0)\n",
    "d = 13\n",
    "S_b = np.zeros((d,d))\n",
    "for i, m_v in enumerate(mean_vec):\n",
    "    n = X_train_std[y_train == i+1].shape[1]\n",
    "    m_v = m_v.reshape(d,1)\n",
    "    mean_overall = mean_overall.reshape(d,1)\n",
    "    S_b+= n*(m_v - mean_overall).dot((m_v - mean_overall).T)\n",
    "print(\"Whithin Class scatter matrix - %sx%s\" %(S_b.shape[0], S_b.shape[1]))"
   ]
  },
  {
   "cell_type": "code",
   "execution_count": 10,
   "metadata": {},
   "outputs": [
    {
     "name": "stdout",
     "output_type": "stream",
     "text": [
      "Eigenvalues in descending order:\n",
      "\n",
      "126.04694584819556\n",
      "50.8763651059293\n",
      "7.769328236415134e-15\n",
      "6.56745019227536e-15\n",
      "6.56745019227536e-15\n",
      "5.7443765069317345e-15\n",
      "5.4969424111074125e-15\n",
      "4.9090210310908164e-15\n",
      "2.7760286725854775e-15\n",
      "2.7760286725854775e-15\n",
      "1.4570319153886209e-15\n",
      "4.2304823786284926e-16\n",
      "0.0\n"
     ]
    }
   ],
   "source": [
    "#Computing epairs for Sw-1Sb\n",
    "eVal, eVec = np.linalg.eig(np.linalg.inv(S_w).dot(S_b))\n",
    "ePairs = [(np.abs(eVal[i]), eVec[:,i]) for i in range(len(eVal))] \n",
    "ePairs.sort(key = lambda k:k[0], reverse = True) # sorting the tuples in decreasing order of e-vals\n",
    "print('Eigenvalues in descending order:\\n')\n",
    "for eV in ePairs:\n",
    "    print(eV[0])"
   ]
  },
  {
   "cell_type": "code",
   "execution_count": 11,
   "metadata": {},
   "outputs": [
    {
     "data": {
      "image/png": "[encoded data removed]",
      "text/plain": [
       "<Figure size 432x288 with 1 Axes>"
      ]
     },
     "metadata": {
      "needs_background": "light"
     },
     "output_type": "display_data"
    }
   ],
   "source": [
    "tot = sum(eVal.real)\n",
    "discr = [(i/tot) for i in sorted(eVal.real, reverse=True)]\n",
    "cum_discr = np.cumsum(discr)\n",
    "plt.bar(range(1, 14), discr, alpha=0.5, align='center', label='Individual \"discriminability\"')\n",
    "plt.step(range(1, 14), cum_discr, where='mid', label='Cumulative \"discriminability\"')\n",
    "plt.ylabel(\"Dicriminability Ratio\")\n",
    "plt.xlabel(\"Linear Discriminants\")\n",
    "plt.ylim([-0.1,1.1])\n",
    "plt.legend(loc = 'best')\n",
    "plt.tight_layout()\n",
    "plt.show()"
   ]
  },
  {
   "cell_type": "code",
   "execution_count": 37,
   "metadata": {},
   "outputs": [
    {
     "data": {
      "text/plain": [
       "array([[-0.1229+0.j, -0.4193+0.j],\n",
       "       [ 0.1009+0.j, -0.1458+0.j],\n",
       "       [ 0.0053+0.j, -0.3506+0.j],\n",
       "       [ 0.1287+0.j,  0.3337+0.j],\n",
       "       [-0.0113+0.j, -0.0823+0.j],\n",
       "       [ 0.1866+0.j,  0.1035+0.j],\n",
       "       [-0.7535+0.j,  0.1999+0.j],\n",
       "       [-0.0746+0.j, -0.018 +0.j],\n",
       "       [-0.0038+0.j,  0.0896+0.j],\n",
       "       [ 0.3083+0.j, -0.1808+0.j],\n",
       "       [-0.0501+0.j,  0.2674+0.j],\n",
       "       [-0.3549+0.j, -0.0502+0.j],\n",
       "       [-0.3554+0.j, -0.6294+0.j]])"
      ]
     },
     "execution_count": 37,
     "metadata": {},
     "output_type": "execute_result"
    }
   ],
   "source": [
    "w = np.hstack((ePairs[0][1][:, np.newaxis],\n",
    "              ePairs[1][1][:, np.newaxis]))\n",
    "w"
   ]
  },
  {
   "cell_type": "code",
   "execution_count": 41,
   "metadata": {},
   "outputs": [
    {
     "data": {
      "image/png": "[encoded data removed]",
      "text/plain": [
       "<Figure size 432x288 with 1 Axes>"
      ]
     },
     "metadata": {
      "needs_background": "light"
     },
     "output_type": "display_data"
    }
   ],
   "source": [
    "colors = ['r','b','g']\n",
    "markers = ['s', 'x', 'o']\n",
    "X_train_lda = (-1)*(X_train_std.dot(w))\n",
    "for l, c, m in zip(np.unique(y_train), colors, markers):\n",
    "    plt.scatter(X_train_lda[y_train == l, 0],X_train_lda[y_train == l, 1],c = c, label = l,marker = m)\n",
    "plt.xlabel('ld 1')\n",
    "plt.ylabel('ld 2')\n",
    "plt.legend(loc = 'best')\n",
    "plt.tight_layout()\n",
    "plt.show()"
   ]
  },
  {
   "cell_type": "code",
   "execution_count": 42,
   "metadata": {},
   "outputs": [],
   "source": [
    "from matplotlib.colors import ListedColormap\n",
    "def plotDecisionRegion(X, y, classifier, test_idx = None, resolution = 0.02):\n",
    "    markers = ('s','x','o','^','v')\n",
    "    colors = ('red', 'blue', 'lightgreen', 'gray', 'cyan')\n",
    "    cmap = ListedColormap(colors[:len(np.unique(y))])\n",
    "    x1_min, x1_max = X[:, 0].min() - 1,X[:,0].max() + 1\n",
    "    x2_min, x2_max = X[:, 1].min() - 1,X[:,1].max() + 1\n",
    "    xx1, xx2 = np.meshgrid(np.arange(x1_min,x1_max,resolution),\n",
    "                          np.arange(x2_min,x2_max, resolution))\n",
    "    #xx1, xx2 are the coordinates of x and y respectively, we pair each value of the two corresponding matrices and get a grid\n",
    "    Z = classifier.predict(np.array([xx1.ravel(), xx2.ravel()]).T)\n",
    "    Z = Z.reshape(xx1.shape)\n",
    "    plt.contourf(xx1,xx2, Z, alpha = 0.3, cmap = cmap)\n",
    "    plt.xlim(xx1.min(),xx1.max())\n",
    "    plt.ylim(xx2.min(),xx2.max())\n",
    "    \n",
    "    for idx, c1 in enumerate(np.unique(y)):\n",
    "        plt.scatter(x =X[y==c1,0],\n",
    "                    y = X[y==c1,1],\n",
    "                    alpha =0.8,\n",
    "                    c = colors[idx],\n",
    "                    marker = markers[idx],\n",
    "                    label = c1, edgecolor='black')\n",
    "    \n",
    "    if test_idx:\n",
    "        X_test, y_test = X[test_idx, :], y[test_idx]\n",
    "        plt.scatter(X_test[:,0], X_test[:,1], c= '', edgecolors='black',\n",
    "                    alpha=1.0, linewidths=1, marker='o', s=100, label='test set')"
   ]
  },
  {
   "cell_type": "code",
   "execution_count": 44,
   "metadata": {},
   "outputs": [
    {
     "data": {
      "image/png": "[encoded data removed]",
      "text/plain": [
       "<Figure size 432x288 with 1 Axes>"
      ]
     },
     "metadata": {
      "needs_background": "light"
     },
     "output_type": "display_data"
    }
   ],
   "source": [
    "from sklearn.discriminant_analysis import LinearDiscriminantAnalysis as LDA\n",
    "from sklearn.linear_model import LogisticRegression\n",
    "lda = LDA(n_components=2)\n",
    "X_train_lda = lda.fit_transform(X_train_std, y_train)\n",
    "lr = LogisticRegression(multi_class='ovr', random_state=1, solver='lbfgs')\n",
    "lr.fit(X_train_lda, y_train)\n",
    "plotDecisionRegion(X_train_lda, y_train, classifier=lr)\n",
    "plt.xlabel('ld 1')\n",
    "plt.ylabel('ld 2')\n",
    "plt.legend(loc = 'best')\n",
    "plt.tight_layout()\n",
    "plt.show()"
   ]
  },
  {
   "cell_type": "code",
   "execution_count": 47,
   "metadata": {},
   "outputs": [
    {
     "data": {
      "image/png": "[encoded data removed]",
      "text/plain": [
       "<Figure size 432x288 with 1 Axes>"
      ]
     },
     "metadata": {
      "needs_background": "light"
     },
     "output_type": "display_data"
    }
   ],
   "source": [
    "X_test_lda = lda.fit_transform(X_test_std, y_test)\n",
    "plotDecisionRegion(X_test_lda, y_test, classifier=lr)\n",
    "plt.xlabel('ld 1')\n",
    "plt.ylabel('ld 2')\n",
    "plt.legend(loc = 'best')\n",
    "plt.tight_layout()\n",
    "plt.show()"
   ]
  },
  {
   "cell_type": "code",
   "execution_count": null,
   "metadata": {},
   "outputs": [],
   "source": [
    "lr.score()"
   ]
  }
 ],
 "metadata": {
  "kernelspec": {
   "display_name": "Python 3",
   "language": "python",
   "name": "python3"
  },
  "language_info": {
   "codemirror_mode": {
    "name": "ipython",
    "version": 3
   },
   "file_extension": ".py",
   "mimetype": "text/x-python",
   "name": "python",
   "nbconvert_exporter": "python",
   "pygments_lexer": "ipython3",
   "version": "3.7.4"
  }
 },
 "nbformat": 4,
 "nbformat_minor": 2
}
